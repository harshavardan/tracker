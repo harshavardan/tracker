{
 "cells": [
  {
   "cell_type": "code",
   "execution_count": 1,
   "metadata": {},
   "outputs": [],
   "source": [
    "import cv2\n",
    "import numpy as np\n",
    "import csv\n",
    "import matplotlib.pyplot as plt\n",
    "import statistics as stat"
   ]
  },
  {
   "cell_type": "markdown",
   "metadata": {},
   "source": [
    "# Background Estimation"
   ]
  },
  {
   "cell_type": "code",
   "execution_count": 2,
   "metadata": {},
   "outputs": [],
   "source": [
    "filename = \"video1.avi\"\n",
    "location = \"./\"\n",
    "length = 1000\n",
    "\n",
    "count = 0\n",
    "random = np.random.randint(100, length, 25)\n",
    "\n",
    "bg_frames = [] #stores frames to used for bg calculation\n",
    "\n",
    "cap = cv2.VideoCapture(location + filename)\n",
    "\n",
    "while cap.isOpened:\n",
    "    \n",
    "    ret,frame = cap.read()\n",
    "    \n",
    "    if ret == 0:\n",
    "        break\n",
    "    \n",
    "    frame = cv2.cvtColor(frame, cv2.COLOR_BGR2GRAY)\n",
    "    \n",
    "    blur = cv2.GaussianBlur(frame, (19, 19), 0)\n",
    "    thresh = cv2.adaptiveThreshold(blur, 255, cv2.ADAPTIVE_THRESH_MEAN_C, cv2.THRESH_BINARY_INV, 9, 5) \n",
    "    \n",
    "\n",
    "        \n",
    "    if count == length:\n",
    "        break\n",
    "        \n",
    "    if count in random:\n",
    "        copy = thresh.copy()\n",
    "        bg_frames.append(copy)\n",
    "    \n",
    "    cv2.imshow(\"frame\", blur)  \n",
    "    \n",
    "    if cv2.waitKey(1) & 0xFF == ord('q'):\n",
    "        break\n",
    "    count += 1\n",
    "    \n",
    "cap.release()\n",
    "cv2.destroyAllWindows()\n",
    "\n",
    "bg_frames = np.array(bg_frames)\n",
    "bg = np.median(bg_frames, axis = 0)\n",
    "bg = cv2.convertScaleAbs(bg)\n",
    "cv2.imshow('Background', bg)\n",
    "cv2.waitKey(0)\n",
    "cv2.destroyAllWindows()"
   ]
  },
  {
   "cell_type": "markdown",
   "metadata": {},
   "source": [
    "# Motion Detection"
   ]
  },
  {
   "cell_type": "code",
   "execution_count": 3,
   "metadata": {},
   "outputs": [],
   "source": [
    "cap = cv2.VideoCapture(\"./video1.avi\")\n",
    "\n",
    "count = 0\n",
    "random = np.random.randint(0, 500, 25)\n",
    "\n",
    "bg_frames = [] #stores frames to used for bg calculation\n",
    "x_coor = []\n",
    "y_coor = []\n",
    "\n",
    "while cap.isOpened:\n",
    "    \n",
    "    ret,frame = cap.read()\n",
    "    \n",
    "    if ret == 0:\n",
    "        break\n",
    "    \n",
    "    frame = cv2.cvtColor(frame, cv2.COLOR_BGR2GRAY)\n",
    "    blur = cv2.GaussianBlur(frame, (19, 19), 0)\n",
    "    thresh = cv2.adaptiveThreshold(blur, 255, cv2.ADAPTIVE_THRESH_MEAN_C, cv2.THRESH_BINARY_INV,9,5) \n",
    "    fg = thresh - bg\n",
    "    \n",
    "    #_,thresh = cv2.threshold(fg, 50, 255, cv2.THRESH_BINARY)\n",
    "    \n",
    "    kernel = np.ones((4,4),np.uint8)\n",
    "    erode = cv2.erode(fg, kernel, iterations = 1)\n",
    "    \n",
    "    dilate = cv2.dilate(erode, kernel, iterations = 5)\n",
    "    \n",
    "    contours, hierarchy = cv2.findContours(fg, cv2.RETR_TREE, cv2.CHAIN_APPROX_SIMPLE)\n",
    "    largest = max(contours, key = cv2.contourArea)\n",
    "    \n",
    "    (x,y),radius = cv2.minEnclosingCircle(largest)\n",
    "    center = (int(x),int(y))\n",
    "    radius = int(radius)\n",
    "    cv2.circle(frame, center, radius, 2)\n",
    "    x_coor.append(int(x))\n",
    "    y_coor.append(int(y))\n",
    "    \n",
    "    for i in range(len(x_coor) - 1):\n",
    "        cv2.circle(frame, (x_coor[i], y_coor[i]), 2, -1)\n",
    "    \n",
    "    \n",
    "    cv2.imshow(\"frame\", dilate)  \n",
    "    \n",
    "    if cv2.waitKey(1) & 0xFF == ord('q'):\n",
    "        break\n",
    "    count += 1\n",
    "    \n",
    "cap.release()\n",
    "cv2.destroyAllWindows()"
   ]
  },
  {
   "cell_type": "code",
   "execution_count": 9,
   "metadata": {},
   "outputs": [
    {
     "data": {
      "image/png": "[encoded data removed]",
      "text/plain": [
       "<Figure size 720x720 with 1 Axes>"
      ]
     },
     "metadata": {
      "needs_background": "light"
     },
     "output_type": "display_data"
    }
   ],
   "source": [
    "plt.figure(figsize = (10, 10))\n",
    "plt.scatter(x_coor, y_coor)\n",
    "\n",
    "output = [x_coor, y_coor]\n",
    "fields = [\"x\",\"y\"]\n",
    "\n",
    "with open(location + filename[:-4] + \"coordinates.csv\", \"w\") as csv_file:\n",
    "    csvwriter = csv.writer(csv_file)\n",
    "    csvwriter.writerow(fields)\n",
    "    for i in range(len(output[0])):\n",
    "        csvwriter.writerow([output[0][i], output[1][i]])"
   ]
  },
  {
   "cell_type": "code",
   "execution_count": null,
   "metadata": {},
   "outputs": [],
   "source": [
    "dist = []\n",
    "vel = []\n",
    "\n",
    "for i in range(len(x_coor) - 1):\n",
    "    distance = ((x_coor[i + 1] - x_coor[i])**2 + (y_coor[i + 1] - y_coor[i])**2)**0.5\n",
    "    if distance <= 2:\n",
    "        dist.append(0)\n",
    "    else:\n",
    "        dist.append(distance)\n",
    "    #if i != 0:\n",
    "        #dist[-1] += dist[-2]"
   ]
  },
  {
   "cell_type": "code",
   "execution_count": null,
   "metadata": {},
   "outputs": [],
   "source": [
    "plt.figure(figsize = (20, 10))\n",
    "plt.plot(np.arange(0, 10, 0.006667), dist[:1500])\n",
    "plt.xlabel(\"time (s)\", fontsize = 15)\n",
    "plt.ylabel(\"distance / frame (pixels)\", fontsize = 15)\n",
    "#plt.xlim(5, 5.25)\n",
    "plt.savefig(\"./dist_time_plot.png\")"
   ]
  },
  {
   "cell_type": "code",
   "execution_count": null,
   "metadata": {},
   "outputs": [],
   "source": [
    "plt.figure(figsize = (20, 10))\n",
    "plt.plot(np.arange(0, 10, 0.006667), dist[:1500])\n",
    "plt.xlabel(\"time (s)\", fontsize = 15)\n",
    "plt.ylabel(\"distance / frame (pixels)\", fontsize = 15)\n",
    "plt.xlim(4.7, 5.25)\n",
    "plt.savefig(\"./dist_time_plot.png\")"
   ]
  },
  {
   "cell_type": "code",
   "execution_count": null,
   "metadata": {},
   "outputs": [],
   "source": [
    "plt.figure(figsize = (20, 10))\n",
    "plt.plot(np.arange(0, 10, 0.006667), dist[:1500])\n",
    "plt.xlabel(\"time (s)\", fontsize = 15)\n",
    "plt.ylabel(\"distance / frame (pixels)\", fontsize = 15)\n",
    "#plt.xlim(4.7, 4.95)\n",
    "plt.savefig(\"./dist_time_plot.png\")"
   ]
  },
  {
   "cell_type": "code",
   "execution_count": null,
   "metadata": {},
   "outputs": [],
   "source": [
    "blah = []\n",
    "for i in range(len(dist)):\n",
    "    if dist[i] == 0:\n",
    "        continue\n",
    "    else:\n",
    "        blah.append(dist[i])\n",
    "plt.hist(blah)#, bins = 100)\n",
    "#plt.xlim(0, 5)"
   ]
  },
  {
   "cell_type": "code",
   "execution_count": null,
   "metadata": {},
   "outputs": [],
   "source": [
    "plt.figure(figsize = (20, 10))\n",
    "plt.plot(dist[:])\n",
    "plt.xlabel(\"time (s)\", fontsize = 15)\n",
    "plt.ylabel(\"distance / frame (pixels)\", fontsize = 15)\n",
    "#plt.xlim(5, 5.25)\n",
    "plt.savefig(\"./dist_time_plot.png\")"
   ]
  },
  {
   "cell_type": "code",
   "execution_count": null,
   "metadata": {},
   "outputs": [],
   "source": []
  }
 ],
 "metadata": {
  "kernelspec": {
   "display_name": "Python 3",
   "language": "python",
   "name": "python3"
  },
  "language_info": {
   "codemirror_mode": {
    "name": "ipython",
    "version": 3
   },
   "file_extension": ".py",
   "mimetype": "text/x-python",
   "name": "python",
   "nbconvert_exporter": "python",
   "pygments_lexer": "ipython3",
   "version": "3.8.5"
  }
 },
 "nbformat": 4,
 "nbformat_minor": 4
}
