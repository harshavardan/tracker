{
 "cells": [
  {
   "cell_type": "code",
   "execution_count": 4,
   "metadata": {},
   "outputs": [],
   "source": [
    "import cv2\n",
    "import numpy as np\n",
    "import csv\n",
    "import matplotlib.pyplot as plt\n",
    "import statistics as stat"
   ]
  },
  {
   "cell_type": "code",
   "execution_count": 5,
   "metadata": {},
   "outputs": [],
   "source": [
    "filename = \"video4.avi\"\n",
    "location = \"E:/Sawani/data/210318/F1 control block 1/\"\n",
    "\n",
    "x_coor = []\n",
    "y_coor = []\n",
    "\n",
    "count = 0\n",
    "\n",
    "cap = cv2.VideoCapture(location + filename)\n",
    "\n",
    "while cap.isOpened:\n",
    "    \n",
    "    ret,frame = cap.read()\n",
    "    \n",
    "    if ret == 0:\n",
    "        break\n",
    "    \n",
    "    frame = cv2.cvtColor(frame, cv2.COLOR_BGR2GRAY)\n",
    "    blur = cv2.GaussianBlur(frame, (5, 5), 0)\n",
    "    thresh = cv2.adaptiveThreshold(blur, 255, cv2.ADAPTIVE_THRESH_MEAN_C, cv2.THRESH_BINARY_INV,25,15) \n",
    "    \n",
    "    kernel = np.ones((3,3),np.uint8)\n",
    "    erode = cv2.erode(thresh, kernel, iterations = 1)\n",
    "    kernel = np.ones((3,3),np.uint8)\n",
    "    dilate = cv2.dilate(erode, kernel, iterations = 5)\n",
    "    \n",
    "    _, contours, _ = cv2.findContours(dilate, cv2.RETR_TREE, cv2.CHAIN_APPROX_SIMPLE)\n",
    "    largest = max(contours, key = cv2.contourArea)\n",
    "    \n",
    "    (x,y),radius = cv2.minEnclosingCircle(largest)\n",
    "    center = (int(x),int(y))\n",
    "    radius = int(radius)\n",
    "    cv2.circle(frame, center, 5, 5)\n",
    "    x_coor.append(int(x))\n",
    "    y_coor.append(int(y))\n",
    "    \n",
    "    #for i in range(len(x_coor) - 1):\n",
    "        #cv2.circle(frame, (x_coor[i], y_coor[i]), 2, -1)\n",
    "    \n",
    "    \n",
    "    cv2.imshow(\"frame\", frame)  \n",
    "    \n",
    "    if cv2.waitKey(1) & 0xFF == ord('q'):\n",
    "        break\n",
    "    count += 1\n",
    "    \n",
    "cap.release()\n",
    "cv2.destroyAllWindows()"
   ]
  },
  {
   "cell_type": "code",
   "execution_count": null,
   "metadata": {},
   "outputs": [],
   "source": [
    "plt.figure(figsize = (10, 10))\n",
    "plt.scatter(x_coor, y_coor)\n",
    "\n",
    "output = [x_coor, y_coor]\n",
    "fields = [\"x\",\"y\"]\n",
    "\n",
    "with open(location + filename[:-4] + \"coordinates.csv\", \"w\") as csv_file:\n",
    "    csvwriter = csv.writer(csv_file)\n",
    "    csvwriter.writerow(fields)\n",
    "    for i in range(len(output[0])):\n",
    "        csvwriter.writerow([output[0][i], output[1][i]])"
   ]
  },
  {
   "cell_type": "code",
   "execution_count": null,
   "metadata": {},
   "outputs": [],
   "source": [
    "dist = []\n",
    "vel = []\n",
    "\n",
    "for i in range(len(x_coor) - 1):\n",
    "    distance = ((x_coor[i + 1] - x_coor[i])**2 + (y_coor[i + 1] - y_coor[i])**2)**0.5\n",
    "    if distance <= 4:\n",
    "        dist.append(0)\n",
    "    else:\n",
    "        dist.append(distance)\n",
    "    #if i != 0:\n",
    "        #dist[-1] += dist[-2]"
   ]
  },
  {
   "cell_type": "code",
   "execution_count": null,
   "metadata": {},
   "outputs": [],
   "source": [
    "plt.figure(figsize = (20, 10))\n",
    "plt.plot(np.arange(0, 10, 0.01), dist[:1000])\n",
    "plt.xlabel(\"time (s)\", fontsize = 15)\n",
    "plt.ylabel(\"distance / frame (pixels)\", fontsize = 15)\n",
    "plt.xlim(5, 6.5)\n",
    "plt.savefig(\"./dist_time_plot.png\")"
   ]
  },
  {
   "cell_type": "code",
   "execution_count": null,
   "metadata": {},
   "outputs": [],
   "source": [
    "plt.figure(figsize = (20, 10))\n",
    "plt.plot(dist)\n",
    "plt.xlabel(\"frames\", fontsize = 15)\n",
    "plt.ylabel(\"distance / frame (pixels)\", fontsize = 15)\n",
    "#plt.xlim(5, 5.25)\n",
    "plt.savefig(\"./dist_time_plot.png\")"
   ]
  },
  {
   "cell_type": "code",
   "execution_count": null,
   "metadata": {},
   "outputs": [],
   "source": []
  }
 ],
 "metadata": {
  "kernelspec": {
   "display_name": "Python 3",
   "language": "python",
   "name": "python3"
  },
  "language_info": {
   "codemirror_mode": {
    "name": "ipython",
    "version": 3
   },
   "file_extension": ".py",
   "mimetype": "text/x-python",
   "name": "python",
   "nbconvert_exporter": "python",
   "pygments_lexer": "ipython3",
   "version": "3.6.5"
  }
 },
 "nbformat": 4,
 "nbformat_minor": 2
}
