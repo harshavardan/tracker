{
 "cells": [
  {
   "cell_type": "code",
   "execution_count": 21,
   "metadata": {},
   "outputs": [],
   "source": [
    "import cv2\n",
    "import numpy as np\n",
    "import csv\n",
    "import matplotlib.pyplot as plt\n",
    "import matplotlib\n",
    "import statistics as stat\n",
    "import tifffile as tif"
   ]
  },
  {
   "cell_type": "markdown",
   "metadata": {},
   "source": [
    "# Background Estimation"
   ]
  },
  {
   "cell_type": "code",
   "execution_count": 31,
   "metadata": {},
   "outputs": [],
   "source": [
    "filename = \"video7.avi\"\n",
    "location = \"E:/Sawani/data/210324/F8 SCH block 2/\"\n",
    "length = 1000\n",
    "\n",
    "count = 0\n",
    "random = np.random.randint(0, length, 100)\n",
    "\n",
    "bg_frames = [] #stores frames to used for bg calculation\n",
    "\n",
    "cap = cv2.VideoCapture(location + filename)\n",
    "\n",
    "while cap.isOpened:\n",
    "    \n",
    "    ret,frame = cap.read()\n",
    "    \n",
    "    if ret == 0:\n",
    "        break\n",
    "    \n",
    "    frame = cv2.cvtColor(frame, cv2.COLOR_BGR2GRAY)\n",
    "\n",
    "    if count == length:\n",
    "        break\n",
    "        \n",
    "    if count in random:\n",
    "        copy = frame.copy()\n",
    "        bg_frames.append(copy)\n",
    "    \n",
    "    cv2.imshow(\"frame\", frame)  \n",
    "    \n",
    "    if cv2.waitKey(1) & 0xFF == ord('q'):\n",
    "        break\n",
    "    count += 1\n",
    "    \n",
    "cap.release()\n",
    "cv2.destroyAllWindows()\n",
    "\n",
    "bg_frames = np.array(bg_frames)\n",
    "bg = np.median(bg_frames, axis = 0)\n",
    "bg = cv2.convertScaleAbs(bg)\n",
    "cv2.imshow('Background', bg)\n",
    "cv2.waitKey(0)\n",
    "cv2.destroyAllWindows()"
   ]
  },
  {
   "cell_type": "code",
   "execution_count": 32,
   "metadata": {},
   "outputs": [],
   "source": [
    "tif.imsave(location+filename.split('.avi')[0]+'.tif',bg)"
   ]
  },
  {
   "cell_type": "code",
   "execution_count": 4,
   "metadata": {},
   "outputs": [],
   "source": [
    "#matplotlib.image.imsave(location + filename[:-4] + '.tif', bg)"
   ]
  },
  {
   "cell_type": "code",
   "execution_count": null,
   "metadata": {},
   "outputs": [],
   "source": []
  },
  {
   "cell_type": "code",
   "execution_count": null,
   "metadata": {},
   "outputs": [],
   "source": []
  }
 ],
 "metadata": {
  "kernelspec": {
   "display_name": "Python 3",
   "language": "python",
   "name": "python3"
  },
  "language_info": {
   "codemirror_mode": {
    "name": "ipython",
    "version": 3
   },
   "file_extension": ".py",
   "mimetype": "text/x-python",
   "name": "python",
   "nbconvert_exporter": "python",
   "pygments_lexer": "ipython3",
   "version": "3.6.5"
  }
 },
 "nbformat": 4,
 "nbformat_minor": 2
}
